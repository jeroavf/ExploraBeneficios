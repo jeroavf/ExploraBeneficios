{
 "cells": [
  {
   "cell_type": "code",
   "execution_count": 1,
   "metadata": {},
   "outputs": [],
   "source": [
    "%load_ext autoreload\n",
    "%autoreload 2\n",
    "\n",
    "%matplotlib inline"
   ]
  },
  {
   "cell_type": "code",
   "execution_count": 2,
   "metadata": {},
   "outputs": [],
   "source": [
    "from sklearn.ensemble import RandomForestRegressor, RandomForestClassifier\n",
    "from IPython.display import display\n",
    "\n",
    "from sklearn import metrics\n",
    "import pandas as pd\n",
    "\n",
    "from fastai.imports import *\n",
    "from fastai.structured import *\n",
    "\n",
    "import matplotlib.pyplot as plt"
   ]
  },
  {
   "cell_type": "code",
   "execution_count": 3,
   "metadata": {},
   "outputs": [],
   "source": [
    "def display_all(df):\n",
    "    with pd.option_context(\"display.max_rows\", 1000, \"display.max_columns\", 1000): \n",
    "        display(df)"
   ]
  },
  {
   "cell_type": "markdown",
   "metadata": {},
   "source": [
    "### Leitura do csv e conversão em dataframe"
   ]
  },
  {
   "cell_type": "code",
   "execution_count": null,
   "metadata": {},
   "outputs": [],
   "source": [
    "!ls"
   ]
  },
  {
   "cell_type": "code",
   "execution_count": null,
   "metadata": {},
   "outputs": [],
   "source": [
    "df_beneficios = pd.read_csv('concedidos201812.csv',header=0, encoding='latin-1',sep=';')"
   ]
  },
  {
   "cell_type": "markdown",
   "metadata": {},
   "source": [
    "### Exploração Inicial "
   ]
  },
  {
   "cell_type": "code",
   "execution_count": null,
   "metadata": {},
   "outputs": [],
   "source": [
    "df_beneficios.columns"
   ]
  },
  {
   "cell_type": "code",
   "execution_count": null,
   "metadata": {},
   "outputs": [],
   "source": [
    "print(df_beneficios.dtypes)"
   ]
  },
  {
   "cell_type": "code",
   "execution_count": null,
   "metadata": {},
   "outputs": [],
   "source": [
    "df_beneficios.head()"
   ]
  },
  {
   "cell_type": "code",
   "execution_count": null,
   "metadata": {},
   "outputs": [],
   "source": [
    "display_all(df_beneficios.head().T)"
   ]
  },
  {
   "cell_type": "code",
   "execution_count": null,
   "metadata": {},
   "outputs": [],
   "source": [
    "display_all(df_beneficios.describe( include='all' ).T)"
   ]
  },
  {
   "cell_type": "code",
   "execution_count": null,
   "metadata": {},
   "outputs": [],
   "source": [
    "display_all(df_beneficios.isnull().sum().sort_index()/len(df_beneficios))\n",
    "#Aparentemente nao tem nulls"
   ]
  },
  {
   "cell_type": "code",
   "execution_count": null,
   "metadata": {},
   "outputs": [],
   "source": [
    "# Salva como feather \n",
    "df_beneficios.to_feather(\"df_beneficios.feather\")"
   ]
  },
  {
   "cell_type": "code",
   "execution_count": null,
   "metadata": {},
   "outputs": [],
   "source": [
    "!ls"
   ]
  },
  {
   "cell_type": "markdown",
   "metadata": {},
   "source": [
    "## PreProcessamento "
   ]
  },
  {
   "cell_type": "code",
   "execution_count": 4,
   "metadata": {},
   "outputs": [],
   "source": [
    "df_raw = pd.read_feather('df_beneficios.feather')"
   ]
  },
  {
   "cell_type": "code",
   "execution_count": 5,
   "metadata": {},
   "outputs": [
    {
     "data": {
      "text/html": [
       "<div>\n",
       "<style scoped>\n",
       "    .dataframe tbody tr th:only-of-type {\n",
       "        vertical-align: middle;\n",
       "    }\n",
       "\n",
       "    .dataframe tbody tr th {\n",
       "        vertical-align: top;\n",
       "    }\n",
       "\n",
       "    .dataframe thead th {\n",
       "        text-align: right;\n",
       "    }\n",
       "</style>\n",
       "<table border=\"1\" class=\"dataframe\">\n",
       "  <thead>\n",
       "    <tr style=\"text-align: right;\">\n",
       "      <th></th>\n",
       "      <th>0</th>\n",
       "      <th>1</th>\n",
       "      <th>2</th>\n",
       "      <th>3</th>\n",
       "      <th>4</th>\n",
       "    </tr>\n",
       "  </thead>\n",
       "  <tbody>\n",
       "    <tr>\n",
       "      <th>Competência concessão</th>\n",
       "      <td>201812</td>\n",
       "      <td>201812</td>\n",
       "      <td>201812</td>\n",
       "      <td>201812</td>\n",
       "      <td>201812</td>\n",
       "    </tr>\n",
       "    <tr>\n",
       "      <th>Espécie</th>\n",
       "      <td>Pensão por Morte Previdenciária</td>\n",
       "      <td>Auxílio Salario Maternidade</td>\n",
       "      <td>Aposentadoria por Tempo de Contribuição</td>\n",
       "      <td>Auxílio Salario Maternidade</td>\n",
       "      <td>Pensão por Morte Previdenciária</td>\n",
       "    </tr>\n",
       "    <tr>\n",
       "      <th>CID</th>\n",
       "      <td>Zerados</td>\n",
       "      <td>Zerados</td>\n",
       "      <td>Zerados</td>\n",
       "      <td>Zerados</td>\n",
       "      <td>Zerados</td>\n",
       "    </tr>\n",
       "    <tr>\n",
       "      <th>Despacho</th>\n",
       "      <td>Concessao Decorrente</td>\n",
       "      <td>Concessao Normal</td>\n",
       "      <td>Concessao com Conver</td>\n",
       "      <td>Concessao Normal</td>\n",
       "      <td>Concessao Normal</td>\n",
       "    </tr>\n",
       "    <tr>\n",
       "      <th>Dt Nascimento</th>\n",
       "      <td>22/06/2005</td>\n",
       "      <td>14/08/1994</td>\n",
       "      <td>09/12/1959</td>\n",
       "      <td>20/08/1981</td>\n",
       "      <td>04/01/1956</td>\n",
       "    </tr>\n",
       "    <tr>\n",
       "      <th>Clientela</th>\n",
       "      <td>Urbano</td>\n",
       "      <td>Rural</td>\n",
       "      <td>Urbano</td>\n",
       "      <td>Urbano</td>\n",
       "      <td>Urbano</td>\n",
       "    </tr>\n",
       "    <tr>\n",
       "      <th>Mun Resid</th>\n",
       "      <td>02043-AL-Maceió</td>\n",
       "      <td>03038-AM-São Paulo d</td>\n",
       "      <td>04307-BA-Simões Filh</td>\n",
       "      <td>04275-BA-Salvador</td>\n",
       "      <td>04007-BA-Alagoinhas</td>\n",
       "    </tr>\n",
       "    <tr>\n",
       "      <th>Vínculo dependentes</th>\n",
       "      <td>Filho</td>\n",
       "      <td>Filho</td>\n",
       "      <td>Não Informado</td>\n",
       "      <td>Filho</td>\n",
       "      <td>Cônjuge</td>\n",
       "    </tr>\n",
       "    <tr>\n",
       "      <th>Forma Filiação</th>\n",
       "      <td>Empregado</td>\n",
       "      <td>Segurado Especial</td>\n",
       "      <td>Autônomo</td>\n",
       "      <td>Facultativo</td>\n",
       "      <td>Autônomo</td>\n",
       "    </tr>\n",
       "    <tr>\n",
       "      <th>UF</th>\n",
       "      <td>Alagoas</td>\n",
       "      <td>Amazonas</td>\n",
       "      <td>Bahia</td>\n",
       "      <td>Bahia</td>\n",
       "      <td>Bahia</td>\n",
       "    </tr>\n",
       "    <tr>\n",
       "      <th>Qt SM RMI</th>\n",
       "      <td>4,326</td>\n",
       "      <td>1,000</td>\n",
       "      <td>1,586</td>\n",
       "      <td>1,000</td>\n",
       "      <td>1,000</td>\n",
       "    </tr>\n",
       "  </tbody>\n",
       "</table>\n",
       "</div>"
      ],
      "text/plain": [
       "                                                                   0  \\\n",
       "Competência concessão                                         201812   \n",
       "Espécie                Pensão por Morte Previdenciária                 \n",
       "CID                    Zerados                                         \n",
       "Despacho                                        Concessao Decorrente   \n",
       "Dt Nascimento                                             22/06/2005   \n",
       "Clientela                                       Urbano                 \n",
       "Mun Resid                                       02043-AL-Maceió        \n",
       "Vínculo dependentes                             Filho                  \n",
       "Forma Filiação                                  Empregado              \n",
       "UF                                              Alagoas                \n",
       "Qt SM RMI                                                      4,326   \n",
       "\n",
       "                                                                   1  \\\n",
       "Competência concessão                                         201812   \n",
       "Espécie                Auxílio Salario Maternidade                     \n",
       "CID                    Zerados                                         \n",
       "Despacho                                        Concessao Normal       \n",
       "Dt Nascimento                                             14/08/1994   \n",
       "Clientela                                       Rural                  \n",
       "Mun Resid                                       03038-AM-São Paulo d   \n",
       "Vínculo dependentes                             Filho                  \n",
       "Forma Filiação                                  Segurado Especial      \n",
       "UF                                              Amazonas               \n",
       "Qt SM RMI                                                      1,000   \n",
       "\n",
       "                                                                   2  \\\n",
       "Competência concessão                                         201812   \n",
       "Espécie                Aposentadoria por Tempo de Contribuição         \n",
       "CID                    Zerados                                         \n",
       "Despacho                                        Concessao com Conver   \n",
       "Dt Nascimento                                             09/12/1959   \n",
       "Clientela                                       Urbano                 \n",
       "Mun Resid                                       04307-BA-Simões Filh   \n",
       "Vínculo dependentes                             Não Informado          \n",
       "Forma Filiação                                  Autônomo               \n",
       "UF                                              Bahia                  \n",
       "Qt SM RMI                                                      1,586   \n",
       "\n",
       "                                                                   3  \\\n",
       "Competência concessão                                         201812   \n",
       "Espécie                Auxílio Salario Maternidade                     \n",
       "CID                    Zerados                                         \n",
       "Despacho                                        Concessao Normal       \n",
       "Dt Nascimento                                             20/08/1981   \n",
       "Clientela                                       Urbano                 \n",
       "Mun Resid                                       04275-BA-Salvador      \n",
       "Vínculo dependentes                             Filho                  \n",
       "Forma Filiação                                  Facultativo            \n",
       "UF                                              Bahia                  \n",
       "Qt SM RMI                                                      1,000   \n",
       "\n",
       "                                                                   4  \n",
       "Competência concessão                                         201812  \n",
       "Espécie                Pensão por Morte Previdenciária                \n",
       "CID                    Zerados                                        \n",
       "Despacho                                        Concessao Normal      \n",
       "Dt Nascimento                                             04/01/1956  \n",
       "Clientela                                       Urbano                \n",
       "Mun Resid                                       04007-BA-Alagoinhas   \n",
       "Vínculo dependentes                             Cônjuge               \n",
       "Forma Filiação                                  Autônomo              \n",
       "UF                                              Bahia                 \n",
       "Qt SM RMI                                                      1,000  "
      ]
     },
     "metadata": {},
     "output_type": "display_data"
    }
   ],
   "source": [
    "display_all(df_raw.head().T)"
   ]
  },
  {
   "cell_type": "code",
   "execution_count": null,
   "metadata": {},
   "outputs": [],
   "source": [
    "## Transformando Data Nascimento em diversas colunas para exploração\n",
    "#add_datepart(df_raw,'Dt Nascimento')"
   ]
  },
  {
   "cell_type": "code",
   "execution_count": null,
   "metadata": {},
   "outputs": [],
   "source": [
    "df_raw.dtypes"
   ]
  },
  {
   "cell_type": "code",
   "execution_count": null,
   "metadata": {},
   "outputs": [],
   "source": [
    "#df_raw['Espécie'] = df_raw['Espécie'].astype(str)"
   ]
  },
  {
   "cell_type": "code",
   "execution_count": null,
   "metadata": {},
   "outputs": [],
   "source": [
    "#df_raw['Qt SM RMI'] = df_raw['Qt SM RMI'].str.replace(r'(',')', '.') ###ERRO "
   ]
  },
  {
   "cell_type": "code",
   "execution_count": null,
   "metadata": {},
   "outputs": [],
   "source": [
    "display_all(df_raw['Qt SM RMI'])"
   ]
  },
  {
   "cell_type": "code",
   "execution_count": 6,
   "metadata": {},
   "outputs": [],
   "source": [
    "#Converte a virgula para ponto para poder converter de str para float\n",
    "df_raw['Qt-SM'] = df_raw['Qt SM RMI'].str.replace(',' , '.' )\n",
    "df_raw['Qt-SM'] = df_raw['Qt-SM'].astype(float)"
   ]
  },
  {
   "cell_type": "code",
   "execution_count": 7,
   "metadata": {},
   "outputs": [
    {
     "data": {
      "text/plain": [
       "0    4.326\n",
       "1    1.000\n",
       "2    1.586\n",
       "3    1.000\n",
       "4    1.000\n",
       "Name: Qt-SM, dtype: float64"
      ]
     },
     "execution_count": 7,
     "metadata": {},
     "output_type": "execute_result"
    }
   ],
   "source": [
    "df_raw['Qt-SM'].head()"
   ]
  },
  {
   "cell_type": "code",
   "execution_count": 8,
   "metadata": {},
   "outputs": [
    {
     "data": {
      "text/plain": [
       "count    339434.000000\n",
       "mean          1.477993\n",
       "std           0.994561\n",
       "min           0.005000\n",
       "25%           1.000000\n",
       "50%           1.019000\n",
       "75%           1.563000\n",
       "max         262.599000\n",
       "Name: Qt-SM, dtype: float64"
      ]
     },
     "execution_count": 8,
     "metadata": {},
     "output_type": "execute_result"
    }
   ],
   "source": [
    "df_raw['Qt-SM'].describe()"
   ]
  },
  {
   "cell_type": "code",
   "execution_count": 9,
   "metadata": {},
   "outputs": [],
   "source": [
    "df_raw.to_feather(\"df_raw.feather\")"
   ]
  },
  {
   "cell_type": "markdown",
   "metadata": {},
   "source": [
    "#### Importa o df_raw com os salrios convertidos para float"
   ]
  },
  {
   "cell_type": "code",
   "execution_count": 10,
   "metadata": {},
   "outputs": [],
   "source": [
    "df_raw = pd.read_feather('df_raw.feather')"
   ]
  },
  {
   "cell_type": "code",
   "execution_count": 12,
   "metadata": {},
   "outputs": [
    {
     "data": {
      "text/plain": [
       "Index(['Competência concessão', 'Espécie', 'CID', 'Despacho', 'Dt Nascimento',\n",
       "       'Clientela', 'Mun Resid', 'Vínculo dependentes', 'Forma Filiação', 'UF',\n",
       "       'Qt SM RMI', 'Qt-SM'],\n",
       "      dtype='object')"
      ]
     },
     "execution_count": 12,
     "metadata": {},
     "output_type": "execute_result"
    }
   ],
   "source": [
    "df_raw.columns"
   ]
  },
  {
   "cell_type": "code",
   "execution_count": 28,
   "metadata": {},
   "outputs": [
    {
     "data": {
      "text/plain": [
       "<matplotlib.axes._subplots.AxesSubplot at 0x7f3bb3f48a90>"
      ]
     },
     "execution_count": 28,
     "metadata": {},
     "output_type": "execute_result"
    },
    {
     "data": {
      "image/png": "[encoded data removed]",
      "text/plain": [
       "<Figure size 432x288 with 1 Axes>"
      ]
     },
     "metadata": {
      "needs_background": "light"
     },
     "output_type": "display_data"
    }
   ],
   "source": [
    "df_minimo = df_raw.sample(1000)\n",
    "df_minimo['Qt-SM'].hist(bins=130)"
   ]
  },
  {
   "cell_type": "code",
   "execution_count": 34,
   "metadata": {},
   "outputs": [
    {
     "data": {
      "text/plain": [
       "<matplotlib.axes._subplots.AxesSubplot at 0x7f3bb35bd518>"
      ]
     },
     "execution_count": 34,
     "metadata": {},
     "output_type": "execute_result"
    },
    {
     "data": {
      "image/png": "[encoded data removed]",
      "text/plain": [
       "<Figure size 432x288 with 1 Axes>"
      ]
     },
     "metadata": {
      "needs_background": "light"
     },
     "output_type": "display_data"
    }
   ],
   "source": [
    "df_raw['Qt-SM'].hist(bins=10)"
   ]
  },
  {
   "cell_type": "code",
   "execution_count": null,
   "metadata": {},
   "outputs": [],
   "source": []
  }
 ],
 "metadata": {
  "kernelspec": {
   "display_name": "Python 3",
   "language": "python",
   "name": "python3"
  },
  "language_info": {
   "codemirror_mode": {
    "name": "ipython",
    "version": 3
   },
   "file_extension": ".py",
   "mimetype": "text/x-python",
   "name": "python",
   "nbconvert_exporter": "python",
   "pygments_lexer": "ipython3",
   "version": "3.6.6"
  }
 },
 "nbformat": 4,
 "nbformat_minor": 2
}
